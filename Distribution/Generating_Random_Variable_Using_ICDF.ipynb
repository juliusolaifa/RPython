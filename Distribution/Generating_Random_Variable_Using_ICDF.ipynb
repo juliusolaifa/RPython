{
  "nbformat": 4,
  "nbformat_minor": 0,
  "metadata": {
    "colab": {
      "provenance": []
    },
    "kernelspec": {
      "name": "python3",
      "display_name": "Python 3"
    },
    "language_info": {
      "name": "python"
    }
  },
  "cells": [
    {
      "cell_type": "markdown",
      "source": [
        "## Inverse Cumulative Density Function"
      ],
      "metadata": {
        "id": "0GJ-FVlGrd3u"
      }
    },
    {
      "cell_type": "markdown",
      "source": [
        "Once you can generate a Uniform random variable (I provided a python implementation of R's interface for U(0,1), check here [Generating Uniform random variable](https://github.com/juliusolaifa/RPython/blob/main/Distribution/unif.py)), you can almost generate from any distribution of your choice.\n",
        "\n",
        "- One easy way to do this is using the inverse cumulative density function (ICDF) of the distribution you wish to sample from\n",
        "- There are other methods, but I will focus on the Inverse CDF (ICDF) here. Other methods will be impelemented in the near future."
      ],
      "metadata": {
        "id": "r7v0Ao82rs5A"
      }
    },
    {
      "cell_type": "markdown",
      "source": [
        "### Implementation"
      ],
      "metadata": {
        "id": "ifWHbMlMtT16"
      }
    },
    {
      "cell_type": "markdown",
      "source": [
        "So suppose you have a new distribution that you do not know how to generate from, but you can generate from a uniform distribution $U(0,1)$ also you know the expression for the CDF (or PDF). Let us call your new random variable $X$. such that $X \\sim F_X(x)$. Then your new random variable can be generated as $X \\sim F_{X}^{-1}(U)$"
      ],
      "metadata": {
        "id": "D-6iCINEtZRb"
      }
    },
    {
      "cell_type": "markdown",
      "source": [
        "### Easier Implementation Notation"
      ],
      "metadata": {
        "id": "gh6tUw-ju2hr"
      }
    },
    {
      "cell_type": "markdown",
      "source": [
        "If you struggle with the above, it is simply saying equate $F_{X}(x) = U$ and solve for $X$"
      ],
      "metadata": {
        "id": "oP4s34vFu7ds"
      }
    },
    {
      "cell_type": "markdown",
      "source": [
        "### Example with Exponential"
      ],
      "metadata": {
        "id": "3cybjeG-vPWP"
      }
    },
    {
      "cell_type": "markdown",
      "source": [
        "Suppose I do not have a way to generate from an exponential distribution, but I can generate from Unifrom distribution. I know the CDF for exponential distribution.\n",
        "$$\n",
        "X \\sim exp(λ) \\\\\n",
        "f_{X}(x) = λe^{-λx}, \\lambda > 0, x > 0 \\\\\n",
        "F_X(x) = 1 - e^{-\\lambda x}\n",
        "$$\n",
        "\n",
        "All I need to do is to equate the CDF to a uniform random variable and solve for $X$\n",
        "\n",
        "$$\n",
        "1 - e^{-\\lambda x} = U \\\\\n",
        "\\implies e^{-\\lambda x} = 1 - U \\\\\n",
        "\\implies -\\lambda x = \\log(1- U) \\\\\n",
        "x = -\\frac{\\log(1- U)}{\\lambda} = -\\frac{\\log(U)}{\\lambda}\n",
        "$$"
      ],
      "metadata": {
        "id": "mkx5Qk1kvT1F"
      }
    },
    {
      "cell_type": "code",
      "execution_count": 1,
      "metadata": {
        "id": "xdw0aKWarWcF"
      },
      "outputs": [],
      "source": [
        "import numpy as np\n",
        "from unif import runif\n",
        "def rexp(n, rate = 4):\n",
        "  \"\"\"\n",
        "    X ~ exp(u), u > 0, x > 0\n",
        "  \"\"\"\n",
        "  return -np.log(runif(n))/rate"
      ]
    },
    {
      "cell_type": "markdown",
      "source": [
        "NB: To make the code run make sure you have [`unif.py`](https://github.com/juliusolaifa/RPython/blob/main/Distribution/unif.py). This method is suitable for when $F_{X}(x) = U$ has a closed form solution. Check here for [`exp.py`](https://github.com/juliusolaifa/RPython/blob/main/Distribution/exp.py) which implements all R's interface for exponential distribution."
      ],
      "metadata": {
        "id": "amceM4_tyRoR"
      }
    },
    {
      "cell_type": "code",
      "source": [],
      "metadata": {
        "id": "8qLpLDjk0_jm"
      },
      "execution_count": null,
      "outputs": []
    }
  ]
}